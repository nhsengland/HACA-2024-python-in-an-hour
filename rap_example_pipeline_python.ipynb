{
 "cells": [
  {
   "cell_type": "markdown",
   "metadata": {},
   "source": [
    "# RAP Example Python Pipeline - Interactive Exercise"
   ]
  },
  {
   "cell_type": "markdown",
   "metadata": {},
   "source": [
    "ADD THE GOOGLE COLAB LINK HERE"
   ]
  },
  {
   "cell_type": "markdown",
   "metadata": {},
   "source": [
    "## Intro\n",
    "\n",
    "This notebook will show you how straight-forward it is to do an analytical pipeline in Python.\n",
    "\n",
    "The core of any of piece of analytical work is to:\n",
    "- load some data\n",
    "- do something to do that, e.g. process it, do some analysis\n",
    "- create some output\n",
    "\n",
    "This notebook will go briefly through each of these showing *one* way of doing it in Python (there are many more!). \n",
    "\n",
    "Open this notebook in google colab and have a play - try changing bits and see what happens!\n",
    "\n",
    "**NOTE**: to make the workshop more straight forward, we haven't completely followed good practice. If you want to see a pipeline how it should be, well laid out and modularised, [see our Example Python pipeline](https://github.com/NHSDigital/RAP_example_pipeline_python)."
   ]
  },
  {
   "cell_type": "markdown",
   "metadata": {},
   "source": [
    "## Setup"
   ]
  },
  {
   "cell_type": "markdown",
   "metadata": {},
   "source": [
    "We will need to install a few things before we can get going.\n",
    "\n",
    "First, if this is running in Google Colab, we need to clone the repo and install the right python packages."
   ]
  },
  {
   "cell_type": "code",
   "execution_count": null,
   "metadata": {},
   "outputs": [],
   "source": [
    "# this forces google collab to install the dependencies\n",
    "if \"google.colab\" in str(get_ipython()):\n",
    "    print(\"Running on Colab\")\n",
    "    !git clone https://github.com/NHSDigital/RAP_example_pipeline_python.git -q\n",
    "    %cd RAP_example_pipeline_python\n",
    "    !pip install -r requirements.txt -q -q"
   ]
  },
  {
   "cell_type": "markdown",
   "metadata": {},
   "source": [
    "Next we need to import the right libraries for this piece of work:"
   ]
  },
  {
   "cell_type": "code",
   "execution_count": 1,
   "metadata": {},
   "outputs": [],
   "source": [
    "# These libraries will help us download the file\n",
    "import zipfile\n",
    "import io\n",
    "from pathlib import Path\n",
    "import requests\n",
    "\n",
    "\n",
    "import pandas as pd # this allows us to work with dataframes\n",
    "import matplotlib.pyplot as plt # this allows us to create some graphs\n"
   ]
  },
  {
   "cell_type": "markdown",
   "metadata": {},
   "source": [
    "## Config"
   ]
  },
  {
   "cell_type": "markdown",
   "metadata": {},
   "source": [
    "Quite often, when we create an analytical process in code, there will be parts of the code that we need to update - dates, URLs, file paths, and so on.\n",
    " \n",
    "We usually put these in a separate file called a config file. That way, all our settings are in one place. Here we'll just put our config settings in this cell below."
   ]
  },
  {
   "cell_type": "code",
   "execution_count": 3,
   "metadata": {},
   "outputs": [],
   "source": [
    "zip_file_url = \"https://files.digital.nhs.uk/assets/Services/Artificial%20data/Artificial%20HES%20final/artificial_hes_ae_202302_v1_sample.zip\"\n",
    "path_to_downloaded_data = \"data_in/artificial_hes_ae_202302_v1_sample.zip/artificial_hes_ae_202302_v1_sample/artificial_hes_ae_2122.csv\"\n",
    "\n",
    "# The column(s) we are going to investigate\n",
    "cols_to_group = [\"AEARRIVALMODE\"]\n"
   ]
  },
  {
   "cell_type": "markdown",
   "metadata": {},
   "source": [
    "## Load Data"
   ]
  },
  {
   "cell_type": "markdown",
   "metadata": {},
   "source": [
    "First we will load the data: we're going to use an artificial fake version of the NHS Hospital Episode Statistics Accident and Emergency (HES AE) data from 2003. \n",
    "\n",
    "\n",
    "This code:\n",
    "- gets the location of the data from the config file\n",
    "- downloads the CSV\n",
    "- saves it to our data_in folder\n",
    "\n",
    "This is just an example - in another setting we could make it load the data from a SQL server, or from a database, S3 bucket, etc."
   ]
  },
  {
   "cell_type": "code",
   "execution_count": 4,
   "metadata": {},
   "outputs": [],
   "source": [
    "filename = Path(zip_file_url).name\n",
    "output_path = f\"data_in/{filename}\"\n",
    "\n",
    "response = requests.get(zip_file_url, stream=True,timeout=3600)\n",
    "downloaded_zip = zipfile.ZipFile(io.BytesIO(response.content))\n",
    "downloaded_zip.extractall(output_path)\n"
   ]
  },
  {
   "cell_type": "markdown",
   "metadata": {},
   "source": [
    "Now we need to read in our data and store it so we can continue to use and manipulate it. We'll use the pandas method read_csv to turn the data within the csv file to a pandas dataframe (commonly referred to as df).\n",
    "\n",
    "A pandas DataFrame is a two-dimensional, labeled data structure in Python, similar to a table in a database or an Excel spreadsheet, that allows for the storage and manipulation of data across rows and columns"
   ]
  },
  {
   "cell_type": "code",
   "execution_count": 5,
   "metadata": {},
   "outputs": [],
   "source": [
    "df = pd.read_csv(path_to_downloaded_data)"
   ]
  },
  {
   "cell_type": "markdown",
   "metadata": {},
   "source": [
    "Let's see what this data looks like, and pull the first 5 rows:"
   ]
  },
  {
   "cell_type": "code",
   "execution_count": 6,
   "metadata": {},
   "outputs": [
    {
     "data": {
      "text/html": [
       "<div>\n",
       "<style scoped>\n",
       "    .dataframe tbody tr th:only-of-type {\n",
       "        vertical-align: middle;\n",
       "    }\n",
       "\n",
       "    .dataframe tbody tr th {\n",
       "        vertical-align: top;\n",
       "    }\n",
       "\n",
       "    .dataframe thead th {\n",
       "        text-align: right;\n",
       "    }\n",
       "</style>\n",
       "<table border=\"1\" class=\"dataframe\">\n",
       "  <thead>\n",
       "    <tr style=\"text-align: right;\">\n",
       "      <th></th>\n",
       "      <th>FYEAR</th>\n",
       "      <th>PARTYEAR</th>\n",
       "      <th>PSEUDO_HESID</th>\n",
       "      <th>AEKEY</th>\n",
       "      <th>AEKEY_FLAG</th>\n",
       "      <th>AEARRIVALMODE</th>\n",
       "      <th>AEATTEND_EXC_PLANNED</th>\n",
       "      <th>AEATTENDCAT</th>\n",
       "      <th>AEATTENDDISP</th>\n",
       "      <th>AEDEPTTYPE</th>\n",
       "      <th>...</th>\n",
       "      <th>LSOA11</th>\n",
       "      <th>MSOA11</th>\n",
       "      <th>PROVDIST</th>\n",
       "      <th>PROVDIST_FLAG</th>\n",
       "      <th>NER_GP_PRACTICE</th>\n",
       "      <th>NER_RESIDENCE</th>\n",
       "      <th>NER_TREATMENT</th>\n",
       "      <th>SITETRET</th>\n",
       "      <th>SITEDIST</th>\n",
       "      <th>SITEDIST_FLAG</th>\n",
       "    </tr>\n",
       "  </thead>\n",
       "  <tbody>\n",
       "    <tr>\n",
       "      <th>0</th>\n",
       "      <td>2122</td>\n",
       "      <td>202103</td>\n",
       "      <td>TESTqPNh7HEHdm1sB5QlvVaSQZS7BekK</td>\n",
       "      <td>910587081231</td>\n",
       "      <td>1</td>\n",
       "      <td>2</td>\n",
       "      <td>1</td>\n",
       "      <td>1</td>\n",
       "      <td>3</td>\n",
       "      <td>1</td>\n",
       "      <td>...</td>\n",
       "      <td>E01000385</td>\n",
       "      <td>E02001768</td>\n",
       "      <td>19.37</td>\n",
       "      <td>3.0</td>\n",
       "      <td>QKS</td>\n",
       "      <td>QKS</td>\n",
       "      <td>QHM</td>\n",
       "      <td>RW601</td>\n",
       "      <td>4.89</td>\n",
       "      <td>5.0</td>\n",
       "    </tr>\n",
       "    <tr>\n",
       "      <th>1</th>\n",
       "      <td>2122</td>\n",
       "      <td>202103</td>\n",
       "      <td>TESTqPNh7HEHdm1sB5QlvVaSQZS7BekK</td>\n",
       "      <td>747777461989</td>\n",
       "      <td>1</td>\n",
       "      <td>2</td>\n",
       "      <td>1</td>\n",
       "      <td>1</td>\n",
       "      <td>3</td>\n",
       "      <td>1</td>\n",
       "      <td>...</td>\n",
       "      <td>E01030571</td>\n",
       "      <td>E02004833</td>\n",
       "      <td>3.96</td>\n",
       "      <td>3.0</td>\n",
       "      <td>QMJ</td>\n",
       "      <td>QYG</td>\n",
       "      <td>QKS</td>\n",
       "      <td>RY901</td>\n",
       "      <td>1.21</td>\n",
       "      <td>5.0</td>\n",
       "    </tr>\n",
       "    <tr>\n",
       "      <th>2</th>\n",
       "      <td>2122</td>\n",
       "      <td>202103</td>\n",
       "      <td>TESTqPNh7HEHdm1sB5QlvVaSQZS7BekK</td>\n",
       "      <td>244053969711</td>\n",
       "      <td>1</td>\n",
       "      <td>2</td>\n",
       "      <td>1</td>\n",
       "      <td>1</td>\n",
       "      <td>3</td>\n",
       "      <td>3</td>\n",
       "      <td>...</td>\n",
       "      <td>E01008938</td>\n",
       "      <td>E02005828</td>\n",
       "      <td>NaN</td>\n",
       "      <td>3.0</td>\n",
       "      <td>QWE</td>\n",
       "      <td>QKK</td>\n",
       "      <td>QWO</td>\n",
       "      <td>RJC02</td>\n",
       "      <td>15.16</td>\n",
       "      <td>5.0</td>\n",
       "    </tr>\n",
       "    <tr>\n",
       "      <th>3</th>\n",
       "      <td>2122</td>\n",
       "      <td>202103</td>\n",
       "      <td>TESTqPNh7HEHdm1sB5QlvVaSQZS7BekK</td>\n",
       "      <td>425257514835</td>\n",
       "      <td>1</td>\n",
       "      <td>2</td>\n",
       "      <td>1</td>\n",
       "      <td>1</td>\n",
       "      <td>1</td>\n",
       "      <td>1</td>\n",
       "      <td>...</td>\n",
       "      <td>E01030533</td>\n",
       "      <td>E02000912</td>\n",
       "      <td>23.68</td>\n",
       "      <td>3.0</td>\n",
       "      <td>QMJ</td>\n",
       "      <td>QRV</td>\n",
       "      <td>QOP</td>\n",
       "      <td>RJE07</td>\n",
       "      <td>3.16</td>\n",
       "      <td>5.0</td>\n",
       "    </tr>\n",
       "    <tr>\n",
       "      <th>4</th>\n",
       "      <td>2122</td>\n",
       "      <td>202103</td>\n",
       "      <td>TESTqPNh7HEHdm1sB5QlvVaSQZS7BekK</td>\n",
       "      <td>892001219292</td>\n",
       "      <td>1</td>\n",
       "      <td>2</td>\n",
       "      <td>1</td>\n",
       "      <td>1</td>\n",
       "      <td>3</td>\n",
       "      <td>1</td>\n",
       "      <td>...</td>\n",
       "      <td>E01025434</td>\n",
       "      <td>E02004315</td>\n",
       "      <td>5.85</td>\n",
       "      <td>3.0</td>\n",
       "      <td>QMF</td>\n",
       "      <td>QM7</td>\n",
       "      <td>QMJ</td>\n",
       "      <td>RDE03</td>\n",
       "      <td>2.41</td>\n",
       "      <td>5.0</td>\n",
       "    </tr>\n",
       "  </tbody>\n",
       "</table>\n",
       "<p>5 rows × 165 columns</p>\n",
       "</div>"
      ],
      "text/plain": [
       "   FYEAR  PARTYEAR                      PSEUDO_HESID         AEKEY  \\\n",
       "0   2122    202103  TESTqPNh7HEHdm1sB5QlvVaSQZS7BekK  910587081231   \n",
       "1   2122    202103  TESTqPNh7HEHdm1sB5QlvVaSQZS7BekK  747777461989   \n",
       "2   2122    202103  TESTqPNh7HEHdm1sB5QlvVaSQZS7BekK  244053969711   \n",
       "3   2122    202103  TESTqPNh7HEHdm1sB5QlvVaSQZS7BekK  425257514835   \n",
       "4   2122    202103  TESTqPNh7HEHdm1sB5QlvVaSQZS7BekK  892001219292   \n",
       "\n",
       "   AEKEY_FLAG  AEARRIVALMODE  AEATTEND_EXC_PLANNED  AEATTENDCAT  AEATTENDDISP  \\\n",
       "0           1              2                     1            1             3   \n",
       "1           1              2                     1            1             3   \n",
       "2           1              2                     1            1             3   \n",
       "3           1              2                     1            1             1   \n",
       "4           1              2                     1            1             3   \n",
       "\n",
       "   AEDEPTTYPE  ...     LSOA11     MSOA11  PROVDIST PROVDIST_FLAG  \\\n",
       "0           1  ...  E01000385  E02001768     19.37           3.0   \n",
       "1           1  ...  E01030571  E02004833      3.96           3.0   \n",
       "2           3  ...  E01008938  E02005828       NaN           3.0   \n",
       "3           1  ...  E01030533  E02000912     23.68           3.0   \n",
       "4           1  ...  E01025434  E02004315      5.85           3.0   \n",
       "\n",
       "  NER_GP_PRACTICE NER_RESIDENCE  NER_TREATMENT  SITETRET SITEDIST  \\\n",
       "0             QKS           QKS            QHM     RW601     4.89   \n",
       "1             QMJ           QYG            QKS     RY901     1.21   \n",
       "2             QWE           QKK            QWO     RJC02    15.16   \n",
       "3             QMJ           QRV            QOP     RJE07     3.16   \n",
       "4             QMF           QM7            QMJ     RDE03     2.41   \n",
       "\n",
       "   SITEDIST_FLAG  \n",
       "0            5.0  \n",
       "1            5.0  \n",
       "2            5.0  \n",
       "3            5.0  \n",
       "4            5.0  \n",
       "\n",
       "[5 rows x 165 columns]"
      ]
     },
     "execution_count": 6,
     "metadata": {},
     "output_type": "execute_result"
    }
   ],
   "source": [
    "df.head(5)"
   ]
  },
  {
   "cell_type": "markdown",
   "metadata": {},
   "source": [
    "## Processing"
   ]
  },
  {
   "cell_type": "markdown",
   "metadata": {},
   "source": [
    "Now the fun part - we get to do some interesting processing on the data.\n",
    "\n",
    "Let's group the dataframe by the specified columns in cols_to_group, counts the number of rows in each group, and create a new column \"Count\" to show this."
   ]
  },
  {
   "cell_type": "code",
   "execution_count": 7,
   "metadata": {},
   "outputs": [
    {
     "name": "stdout",
     "output_type": "stream",
     "text": [
      "   AEARRIVALMODE  Count\n",
      "0              1   2247\n",
      "1              2   7362\n",
      "2              9    391\n"
     ]
    }
   ],
   "source": [
    "df = df.groupby(cols_to_group).size().reset_index(name=\"Count\")\n",
    "print(df)\n"
   ]
  },
  {
   "cell_type": "markdown",
   "metadata": {},
   "source": [
    "It's a little confusing what those numbers mean, so let's put them into plain English"
   ]
  },
  {
   "cell_type": "code",
   "execution_count": 8,
   "metadata": {},
   "outputs": [
    {
     "name": "stdout",
     "output_type": "stream",
     "text": [
      "  AEARRIVALMODE  Count\n",
      "0     Ambulance   2247\n",
      "1         Other   7362\n",
      "2     Not known    391\n"
     ]
    }
   ],
   "source": [
    "replace_names = {\n",
    "    1: \"Ambulance\",\n",
    "    2: \"Other\",\n",
    "    9: \"Not known\"\n",
    "}\n",
    "df[\"AEARRIVALMODE\"] = df[\"AEARRIVALMODE\"].map(replace_names)\n",
    "print(df)"
   ]
  },
  {
   "cell_type": "markdown",
   "metadata": {},
   "source": [
    "## Visualising"
   ]
  },
  {
   "cell_type": "markdown",
   "metadata": {},
   "source": [
    "Now it's time to take our dataframe and turn it into something nice to look at and easy to interpret!"
   ]
  },
  {
   "cell_type": "code",
   "execution_count": 9,
   "metadata": {},
   "outputs": [
    {
     "data": {
      "image/png": "[encoded data removed]",
      "text/plain": [
       "<Figure size 640x480 with 1 Axes>"
      ]
     },
     "metadata": {},
     "output_type": "display_data"
    }
   ],
   "source": [
    "# Create a combined column for x-axis labels (helpful if you are going to combine two columns together)\n",
    "df['Combined'] = df[cols_to_group[0]].astype(str)\n",
    "\n",
    "# Plotting the bar chart\n",
    "plt.bar(df['Combined'], df['Count'])\n",
    "\n",
    "# Setting labels and title\n",
    "plt.xlabel(f\"{cols_to_group[0]}\")\n",
    "plt.ylabel('Count')\n",
    "plt.title(f\"Count by {cols_to_group[0]}\")\n",
    "plt.show()\n"
   ]
  },
  {
   "cell_type": "markdown",
   "metadata": {},
   "source": [
    "## Changing Outputs"
   ]
  },
  {
   "cell_type": "markdown",
   "metadata": {},
   "source": [
    "Due to how the code is written, you can easily swap what column you are investigating. Under \"Config\", try swapping the column in cols_to_group with one of the other columns listed here. Remember to update the name mapping too.\n",
    "\n",
    "AEATTENDDISP - Attendance Disposal\n",
    "\n",
    "AEINCLOCTYPE - Where incident occurred\n",
    "\n",
    "AEREFSOURCE - Source of referral\n",
    "\n",
    "ETHNOS - Ethnicity of patient\n",
    "\n",
    "RESGOR_ONS - Region of Residence\n",
    "\n",
    "SEX - Patient's Sex\n",
    "\n",
    "Check out the HES Technical Output Specification to understand what each column mean and the possible options.\n",
    "\n",
    "https://digital.nhs.uk/data-and-information/data-tools-and-services/data-services/hospital-episode-statistics/hospital-episode-statistics-data-dictionary\n",
    "\n",
    "\n",
    "\n"
   ]
  },
  {
   "cell_type": "markdown",
   "metadata": {},
   "source": [
    "## Advanced"
   ]
  },
  {
   "cell_type": "markdown",
   "metadata": {},
   "source": [
    "You could try grouping by two or more columns, to understand the data a little deeper.\n",
    "\n",
    "You can add as many columns as you wish to the cols_to_group list, but in order to visualise them correctly you will need to combine them together:\n",
    "\n",
    "**df['Combined'] = df[cols_to_group[0]].astype(str) + \"-\" + df[cols_to_group[1]].astype(str)**\n",
    "\n",
    "Remember to update the title and labels too."
   ]
  }
 ],
 "metadata": {
  "kernelspec": {
   "display_name": "Python 3",
   "language": "python",
   "name": "python3"
  },
  "language_info": {
   "codemirror_mode": {
    "name": "ipython",
    "version": 3
   },
   "file_extension": ".py",
   "mimetype": "text/x-python",
   "name": "python",
   "nbconvert_exporter": "python",
   "pygments_lexer": "ipython3",
   "version": "3.10.13"
  }
 },
 "nbformat": 4,
 "nbformat_minor": 2
}
