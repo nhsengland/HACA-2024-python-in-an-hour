{
  "cells": [
    {
      "cell_type": "markdown",
      "metadata": {
        "id": "CgI5JHsE0wP4"
      },
      "source": [
        "# Analyzing COVID-19 data with Python and D-Tale!"
      ]
    },
    {
      "cell_type": "markdown",
      "metadata": {},
      "source": [
        "With Python you can do more than just simple data processing. It also has great tools for exploring data - one of which id Dtale.\n",
        "\n",
        "This notebook will help you use it to explore WHO COVID-19 data."
      ]
    },
    {
      "cell_type": "code",
      "execution_count": null,
      "metadata": {
        "colab": {
          "base_uri": "https://localhost:8080/"
        },
        "collapsed": true,
        "id": "KKZ6S4Qrb-dq",
        "outputId": "e3c7f487-7544-4b03-dd62-768cc9b60277"
      },
      "outputs": [],
      "source": [
        "! pip install dtale -q"
      ]
    },
    {
      "cell_type": "code",
      "execution_count": null,
      "metadata": {
        "id": "RX2T5u7ebvb3"
      },
      "outputs": [],
      "source": [
        "import dtale\n",
        "import pandas as pd\n",
        "import dtale.app as dtale_app\n",
        "dtale_app.USE_COLAB = True"
      ]
    },
    {
      "cell_type": "code",
      "execution_count": null,
      "metadata": {
        "id": "QZKO0ohhb73u"
      },
      "outputs": [],
      "source": [
        "url = \"https://srhdpeuwpubsa.blob.core.windows.net/whdh/COVID/WHO-COVID-19-global-data.csv\"\n",
        "df = pd.read_csv(url)"
      ]
    },
    {
      "cell_type": "code",
      "execution_count": null,
      "metadata": {
        "colab": {
          "base_uri": "https://localhost:8080/",
          "height": 34
        },
        "id": "lZnl31bncbjh",
        "outputId": "2aeff033-fe67-4df8-b631-631ea3514199"
      },
      "outputs": [],
      "source": [
        "dtale.show(df)"
      ]
    },
    {
      "cell_type": "code",
      "execution_count": null,
      "metadata": {
        "id": "rbzeVWOyFWza"
      },
      "outputs": [],
      "source": [
        "## Content (This cell will be deleted later)\n",
        "# dtale UI\n",
        "# dtale describe\n",
        "# dtale date feature (type conversion and filtering)\n",
        "# code export\n",
        "# creating charts and make a dashboard\n",
        "## word cloud\n",
        "## Line chart\n",
        "## bar graph animation\n",
        "## Return back and talk about missing analysis\n",
        "## Correlations\n",
        "## exporting images"
      ]
    }
  ],
  "metadata": {
    "colab": {
      "provenance": []
    },
    "kernelspec": {
      "display_name": "Python 3",
      "name": "python3"
    },
    "language_info": {
      "codemirror_mode": {
        "name": "ipython",
        "version": 3
      },
      "file_extension": ".py",
      "mimetype": "text/x-python",
      "name": "python",
      "nbconvert_exporter": "python",
      "pygments_lexer": "ipython3",
      "version": "3.10.13"
    }
  },
  "nbformat": 4,
  "nbformat_minor": 0
}
